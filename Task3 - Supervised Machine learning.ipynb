{
  "nbformat": 4,
  "nbformat_minor": 0,
  "metadata": {
    "colab": {
      "name": "Task3.ipynb",
      "provenance": [],
      "collapsed_sections": []
    },
    "kernelspec": {
      "name": "python3",
      "display_name": "Python 3"
    }
  },
  "cells": [
    {
      "cell_type": "markdown",
      "metadata": {
        "id": "CWV-Yn8cCvIs",
        "colab_type": "text"
      },
      "source": [
        "# **To explore Supervised Machine learning**"
      ]
    },
    {
      "cell_type": "markdown",
      "metadata": {
        "id": "9ddCvsXsEjPn",
        "colab_type": "text"
      },
      "source": [
        "In this task, we are given the 'iris' dataset and we are supposed to  predict the optimum number of clusters and represent it visually.\n"
      ]
    },
    {
      "cell_type": "code",
      "metadata": {
        "id": "7X6mqwF7CiB4",
        "colab_type": "code",
        "colab": {}
      },
      "source": [
        "# importing all the libraries\n",
        "import numpy as np\n",
        "import pandas as pd\n",
        "import matplotlib.pyplot as plt\n",
        "from sklearn import datasets"
      ],
      "execution_count": null,
      "outputs": []
    },
    {
      "cell_type": "code",
      "metadata": {
        "id": "TtTeQinwJC-q",
        "colab_type": "code",
        "colab": {
          "base_uri": "https://localhost:8080/",
          "height": 204
        },
        "outputId": "a2e12da9-8a76-406a-d5f7-d862965d88a6"
      },
      "source": [
        "# read the data\n",
        "iris = pd.read_csv(\"Iris.csv\")\n",
        "iris.head()"
      ],
      "execution_count": null,
      "outputs": [
        {
          "output_type": "execute_result",
          "data": {
            "text/html": [
              "<div>\n",
              "<style scoped>\n",
              "    .dataframe tbody tr th:only-of-type {\n",
              "        vertical-align: middle;\n",
              "    }\n",
              "\n",
              "    .dataframe tbody tr th {\n",
              "        vertical-align: top;\n",
              "    }\n",
              "\n",
              "    .dataframe thead th {\n",
              "        text-align: right;\n",
              "    }\n",
              "</style>\n",
              "<table border=\"1\" class=\"dataframe\">\n",
              "  <thead>\n",
              "    <tr style=\"text-align: right;\">\n",
              "      <th></th>\n",
              "      <th>Id</th>\n",
              "      <th>SepalLengthCm</th>\n",
              "      <th>SepalWidthCm</th>\n",
              "      <th>PetalLengthCm</th>\n",
              "      <th>PetalWidthCm</th>\n",
              "      <th>Species</th>\n",
              "    </tr>\n",
              "  </thead>\n",
              "  <tbody>\n",
              "    <tr>\n",
              "      <th>0</th>\n",
              "      <td>1</td>\n",
              "      <td>5.1</td>\n",
              "      <td>3.5</td>\n",
              "      <td>1.4</td>\n",
              "      <td>0.2</td>\n",
              "      <td>Iris-setosa</td>\n",
              "    </tr>\n",
              "    <tr>\n",
              "      <th>1</th>\n",
              "      <td>2</td>\n",
              "      <td>4.9</td>\n",
              "      <td>3.0</td>\n",
              "      <td>1.4</td>\n",
              "      <td>0.2</td>\n",
              "      <td>Iris-setosa</td>\n",
              "    </tr>\n",
              "    <tr>\n",
              "      <th>2</th>\n",
              "      <td>3</td>\n",
              "      <td>4.7</td>\n",
              "      <td>3.2</td>\n",
              "      <td>1.3</td>\n",
              "      <td>0.2</td>\n",
              "      <td>Iris-setosa</td>\n",
              "    </tr>\n",
              "    <tr>\n",
              "      <th>3</th>\n",
              "      <td>4</td>\n",
              "      <td>4.6</td>\n",
              "      <td>3.1</td>\n",
              "      <td>1.5</td>\n",
              "      <td>0.2</td>\n",
              "      <td>Iris-setosa</td>\n",
              "    </tr>\n",
              "    <tr>\n",
              "      <th>4</th>\n",
              "      <td>5</td>\n",
              "      <td>5.0</td>\n",
              "      <td>3.6</td>\n",
              "      <td>1.4</td>\n",
              "      <td>0.2</td>\n",
              "      <td>Iris-setosa</td>\n",
              "    </tr>\n",
              "  </tbody>\n",
              "</table>\n",
              "</div>"
            ],
            "text/plain": [
              "   Id  SepalLengthCm  SepalWidthCm  PetalLengthCm  PetalWidthCm      Species\n",
              "0   1            5.1           3.5            1.4           0.2  Iris-setosa\n",
              "1   2            4.9           3.0            1.4           0.2  Iris-setosa\n",
              "2   3            4.7           3.2            1.3           0.2  Iris-setosa\n",
              "3   4            4.6           3.1            1.5           0.2  Iris-setosa\n",
              "4   5            5.0           3.6            1.4           0.2  Iris-setosa"
            ]
          },
          "metadata": {
            "tags": []
          },
          "execution_count": 16
        }
      ]
    },
    {
      "cell_type": "code",
      "metadata": {
        "id": "sAlHh1EuQA4-",
        "colab_type": "code",
        "colab": {
          "base_uri": "https://localhost:8080/",
          "height": 204
        },
        "outputId": "ff405f5e-0db5-48f1-fc1e-bd393d702ef6"
      },
      "source": [
        "iris_label = iris[\"Species\"]\n",
        "iris.drop([\"Id\",\"Species\"], inplace=True, axis=1)\n",
        "iris.head()"
      ],
      "execution_count": null,
      "outputs": [
        {
          "output_type": "execute_result",
          "data": {
            "text/html": [
              "<div>\n",
              "<style scoped>\n",
              "    .dataframe tbody tr th:only-of-type {\n",
              "        vertical-align: middle;\n",
              "    }\n",
              "\n",
              "    .dataframe tbody tr th {\n",
              "        vertical-align: top;\n",
              "    }\n",
              "\n",
              "    .dataframe thead th {\n",
              "        text-align: right;\n",
              "    }\n",
              "</style>\n",
              "<table border=\"1\" class=\"dataframe\">\n",
              "  <thead>\n",
              "    <tr style=\"text-align: right;\">\n",
              "      <th></th>\n",
              "      <th>SepalLengthCm</th>\n",
              "      <th>SepalWidthCm</th>\n",
              "      <th>PetalLengthCm</th>\n",
              "      <th>PetalWidthCm</th>\n",
              "    </tr>\n",
              "  </thead>\n",
              "  <tbody>\n",
              "    <tr>\n",
              "      <th>0</th>\n",
              "      <td>5.1</td>\n",
              "      <td>3.5</td>\n",
              "      <td>1.4</td>\n",
              "      <td>0.2</td>\n",
              "    </tr>\n",
              "    <tr>\n",
              "      <th>1</th>\n",
              "      <td>4.9</td>\n",
              "      <td>3.0</td>\n",
              "      <td>1.4</td>\n",
              "      <td>0.2</td>\n",
              "    </tr>\n",
              "    <tr>\n",
              "      <th>2</th>\n",
              "      <td>4.7</td>\n",
              "      <td>3.2</td>\n",
              "      <td>1.3</td>\n",
              "      <td>0.2</td>\n",
              "    </tr>\n",
              "    <tr>\n",
              "      <th>3</th>\n",
              "      <td>4.6</td>\n",
              "      <td>3.1</td>\n",
              "      <td>1.5</td>\n",
              "      <td>0.2</td>\n",
              "    </tr>\n",
              "    <tr>\n",
              "      <th>4</th>\n",
              "      <td>5.0</td>\n",
              "      <td>3.6</td>\n",
              "      <td>1.4</td>\n",
              "      <td>0.2</td>\n",
              "    </tr>\n",
              "  </tbody>\n",
              "</table>\n",
              "</div>"
            ],
            "text/plain": [
              "   SepalLengthCm  SepalWidthCm  PetalLengthCm  PetalWidthCm\n",
              "0            5.1           3.5            1.4           0.2\n",
              "1            4.9           3.0            1.4           0.2\n",
              "2            4.7           3.2            1.3           0.2\n",
              "3            4.6           3.1            1.5           0.2\n",
              "4            5.0           3.6            1.4           0.2"
            ]
          },
          "metadata": {
            "tags": []
          },
          "execution_count": 18
        }
      ]
    },
    {
      "cell_type": "markdown",
      "metadata": {
        "id": "CyIaUHXnRd0i",
        "colab_type": "text"
      },
      "source": [
        "This is our dataset that we need to cluster. We have removed the labels so that this comes under unsupervised machine learning."
      ]
    },
    {
      "cell_type": "code",
      "metadata": {
        "id": "n4eaJmIDQeXC",
        "colab_type": "code",
        "colab": {
          "base_uri": "https://localhost:8080/",
          "height": 297
        },
        "outputId": "9abb5603-9554-4fde-82b5-f387c92e762b"
      },
      "source": [
        "iris.describe()"
      ],
      "execution_count": null,
      "outputs": [
        {
          "output_type": "execute_result",
          "data": {
            "text/html": [
              "<div>\n",
              "<style scoped>\n",
              "    .dataframe tbody tr th:only-of-type {\n",
              "        vertical-align: middle;\n",
              "    }\n",
              "\n",
              "    .dataframe tbody tr th {\n",
              "        vertical-align: top;\n",
              "    }\n",
              "\n",
              "    .dataframe thead th {\n",
              "        text-align: right;\n",
              "    }\n",
              "</style>\n",
              "<table border=\"1\" class=\"dataframe\">\n",
              "  <thead>\n",
              "    <tr style=\"text-align: right;\">\n",
              "      <th></th>\n",
              "      <th>SepalLengthCm</th>\n",
              "      <th>SepalWidthCm</th>\n",
              "      <th>PetalLengthCm</th>\n",
              "      <th>PetalWidthCm</th>\n",
              "    </tr>\n",
              "  </thead>\n",
              "  <tbody>\n",
              "    <tr>\n",
              "      <th>count</th>\n",
              "      <td>150.000000</td>\n",
              "      <td>150.000000</td>\n",
              "      <td>150.000000</td>\n",
              "      <td>150.000000</td>\n",
              "    </tr>\n",
              "    <tr>\n",
              "      <th>mean</th>\n",
              "      <td>5.843333</td>\n",
              "      <td>3.054000</td>\n",
              "      <td>3.758667</td>\n",
              "      <td>1.198667</td>\n",
              "    </tr>\n",
              "    <tr>\n",
              "      <th>std</th>\n",
              "      <td>0.828066</td>\n",
              "      <td>0.433594</td>\n",
              "      <td>1.764420</td>\n",
              "      <td>0.763161</td>\n",
              "    </tr>\n",
              "    <tr>\n",
              "      <th>min</th>\n",
              "      <td>4.300000</td>\n",
              "      <td>2.000000</td>\n",
              "      <td>1.000000</td>\n",
              "      <td>0.100000</td>\n",
              "    </tr>\n",
              "    <tr>\n",
              "      <th>25%</th>\n",
              "      <td>5.100000</td>\n",
              "      <td>2.800000</td>\n",
              "      <td>1.600000</td>\n",
              "      <td>0.300000</td>\n",
              "    </tr>\n",
              "    <tr>\n",
              "      <th>50%</th>\n",
              "      <td>5.800000</td>\n",
              "      <td>3.000000</td>\n",
              "      <td>4.350000</td>\n",
              "      <td>1.300000</td>\n",
              "    </tr>\n",
              "    <tr>\n",
              "      <th>75%</th>\n",
              "      <td>6.400000</td>\n",
              "      <td>3.300000</td>\n",
              "      <td>5.100000</td>\n",
              "      <td>1.800000</td>\n",
              "    </tr>\n",
              "    <tr>\n",
              "      <th>max</th>\n",
              "      <td>7.900000</td>\n",
              "      <td>4.400000</td>\n",
              "      <td>6.900000</td>\n",
              "      <td>2.500000</td>\n",
              "    </tr>\n",
              "  </tbody>\n",
              "</table>\n",
              "</div>"
            ],
            "text/plain": [
              "       SepalLengthCm  SepalWidthCm  PetalLengthCm  PetalWidthCm\n",
              "count     150.000000    150.000000     150.000000    150.000000\n",
              "mean        5.843333      3.054000       3.758667      1.198667\n",
              "std         0.828066      0.433594       1.764420      0.763161\n",
              "min         4.300000      2.000000       1.000000      0.100000\n",
              "25%         5.100000      2.800000       1.600000      0.300000\n",
              "50%         5.800000      3.000000       4.350000      1.300000\n",
              "75%         6.400000      3.300000       5.100000      1.800000\n",
              "max         7.900000      4.400000       6.900000      2.500000"
            ]
          },
          "metadata": {
            "tags": []
          },
          "execution_count": 19
        }
      ]
    },
    {
      "cell_type": "code",
      "metadata": {
        "id": "lEbT3UC4RwKa",
        "colab_type": "code",
        "colab": {
          "base_uri": "https://localhost:8080/",
          "height": 204
        },
        "outputId": "459e0597-2746-477f-a6da-c453228ef301"
      },
      "source": [
        "iris.info()"
      ],
      "execution_count": null,
      "outputs": [
        {
          "output_type": "stream",
          "text": [
            "<class 'pandas.core.frame.DataFrame'>\n",
            "RangeIndex: 150 entries, 0 to 149\n",
            "Data columns (total 4 columns):\n",
            " #   Column         Non-Null Count  Dtype  \n",
            "---  ------         --------------  -----  \n",
            " 0   SepalLengthCm  150 non-null    float64\n",
            " 1   SepalWidthCm   150 non-null    float64\n",
            " 2   PetalLengthCm  150 non-null    float64\n",
            " 3   PetalWidthCm   150 non-null    float64\n",
            "dtypes: float64(4)\n",
            "memory usage: 4.8 KB\n"
          ],
          "name": "stdout"
        }
      ]
    },
    {
      "cell_type": "markdown",
      "metadata": {
        "id": "J9ZvEtukS8-u",
        "colab_type": "text"
      },
      "source": [
        "Since there is no null value present in the dataset. So, there is no requirement of data preprocessing."
      ]
    },
    {
      "cell_type": "markdown",
      "metadata": {
        "id": "eLGclVvAUieE",
        "colab_type": "text"
      },
      "source": [
        "## **K-means Clustering**"
      ]
    },
    {
      "cell_type": "markdown",
      "metadata": {
        "id": "g_oklXh7U2jk",
        "colab_type": "text"
      },
      "source": [
        "We don't know how many clusters are to be formed from the given data. So, the task is to find the optimum number of clusters for K-means. Thus, we will be using elbow method."
      ]
    },
    {
      "cell_type": "code",
      "metadata": {
        "id": "kMMVYhL1Rx0J",
        "colab_type": "code",
        "colab": {
          "base_uri": "https://localhost:8080/",
          "height": 295
        },
        "outputId": "1c607a1e-2f5b-4560-cbdb-cd1d23f19b67"
      },
      "source": [
        "from sklearn.cluster import KMeans\n",
        "wcss = []\n",
        "for i in range(1,11):\n",
        "  kmeans = KMeans(n_clusters = i, init = 'k-means++',\n",
        "                  max_iter = 300, n_init = 10, random_state = 0)\n",
        "  kmeans.fit(iris)\n",
        "  wcss.append(kmeans.inertia_)\n",
        "\n",
        "plt.plot(range(1,11), wcss)\n",
        "plt.title(\"The elbow method\")\n",
        "plt.xlabel(\"Number of clusters\")\n",
        "plt.ylabel(\"WCSS\")\n",
        "plt.show()"
      ],
      "execution_count": 22,
      "outputs": [
        {
          "output_type": "display_data",
          "data": {
            "image/png": "[encoded data removed]",
            "text/plain": [
              "<Figure size 432x288 with 1 Axes>"
            ]
          },
          "metadata": {
            "tags": [],
            "needs_background": "light"
          }
        }
      ]
    },
    {
      "cell_type": "markdown",
      "metadata": {
        "id": "6Q7NtTYYX6Ff",
        "colab_type": "text"
      },
      "source": [
        "From the above graph, the optimum clusters is where the elbow occurs. This is when the within cluster sum of squares (WCSS) doesn't decrease significantly with every iteration.\n",
        "\n",
        "From this we choose the number of clusters as '**3**'."
      ]
    },
    {
      "cell_type": "markdown",
      "metadata": {
        "id": "zpR8XDg3YEpR",
        "colab_type": "text"
      },
      "source": [
        "### **Train the model with optimal clusters**"
      ]
    },
    {
      "cell_type": "code",
      "metadata": {
        "id": "Gc9KctJBXeB2",
        "colab_type": "code",
        "colab": {}
      },
      "source": [
        "# Applyingk-means to our dataset\n",
        "model = KMeans(n_clusters = 3, init = 'k-means++',max_iter = 300, n_init = 10, random_state = 0)\n",
        "y_hat = model.fit_predict(iris)"
      ],
      "execution_count": 27,
      "outputs": []
    },
    {
      "cell_type": "code",
      "metadata": {
        "id": "tGSYKjLzbXG4",
        "colab_type": "code",
        "colab": {}
      },
      "source": [
        "iris = np.array(iris)"
      ],
      "execution_count": 28,
      "outputs": []
    },
    {
      "cell_type": "markdown",
      "metadata": {
        "id": "RYX2j74mY97H",
        "colab_type": "text"
      },
      "source": [
        "### **Visualizing our K-clustering model**"
      ]
    },
    {
      "cell_type": "code",
      "metadata": {
        "id": "y58qmW43Ylo_",
        "colab_type": "code",
        "colab": {
          "base_uri": "https://localhost:8080/",
          "height": 521
        },
        "outputId": "a55194a9-c0cc-49ff-899e-61a532ec1e75"
      },
      "source": [
        "# Visualizing the clusters on first two columns\n",
        "plt.figure(figsize=(20,8))\n",
        "plt.scatter(iris[y_hat == 0, 0], iris[y_hat == 0, 1],\n",
        "            s = 100, c = 'red', label = 'Iris-setosa')\n",
        "plt.scatter(iris[y_hat == 1, 0], iris[y_hat == 1, 1],\n",
        "            s = 100, c = 'blue', label = 'Iris-versicolour')\n",
        "plt.scatter(iris[y_hat == 2, 0], iris[y_hat == 2, 1],\n",
        "            s = 100, c = 'green', label = 'Iris-virginica')\n",
        "# Plotting the centroids of the clusters\n",
        "plt.scatter(model.cluster_centers_[:, 0], model.cluster_centers_[:, 1], \n",
        "            s = 100, c = 'yellow', label = 'Centroids')\n",
        "plt.title('Clustering of petals', color = 'black', size = 20)\n",
        "plt.grid()\n",
        "plt.legend()"
      ],
      "execution_count": 30,
      "outputs": [
        {
          "output_type": "execute_result",
          "data": {
            "text/plain": [
              "<matplotlib.legend.Legend at 0x7fad17437cf8>"
            ]
          },
          "metadata": {
            "tags": []
          },
          "execution_count": 30
        },
        {
          "output_type": "display_data",
          "data": {
            "image/png": "[encoded data removed]",
            "text/plain": [
              "<Figure size 1440x576 with 1 Axes>"
            ]
          },
          "metadata": {
            "tags": [],
            "needs_background": "light"
          }
        }
      ]
    },
    {
      "cell_type": "markdown",
      "metadata": {
        "id": "qr6P1lvYbwN4",
        "colab_type": "text"
      },
      "source": [
        "This shows how K-means has clusteres the data into three different clusters."
      ]
    }
  ]
}
